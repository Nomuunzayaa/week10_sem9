{
 "cells": [
  {
   "cell_type": "code",
   "execution_count": 1,
   "id": "4abb886f",
   "metadata": {},
   "outputs": [],
   "source": [
    "import pandas as pd"
   ]
  },
  {
   "cell_type": "code",
   "execution_count": 2,
   "id": "7fb87e41",
   "metadata": {},
   "outputs": [
    {
     "data": {
      "text/plain": [
       "0    3.0\n",
       "1    NaN\n",
       "2    4.0\n",
       "3    3.0\n",
       "dtype: float64"
      ]
     },
     "execution_count": 2,
     "metadata": {},
     "output_type": "execute_result"
    }
   ],
   "source": [
    "#1 len()\n",
    "s = pd.Series(['fox',\n",
    "                6,\n",
    "               [3, 5, 7, 9],\n",
    "               ('one', 'two', 'three')])\n",
    "s.str.len()\n",
    "# len() функц нь үгийн үсэг, дан тоог хоосон, list, tuple-ийг хэдэн гишүүнтэй байгаа уртыг тоолж байна "
   ]
  },
  {
   "cell_type": "code",
   "execution_count": 4,
   "id": "91451260",
   "metadata": {},
   "outputs": [
    {
     "data": {
      "text/plain": [
       "0          white\n",
       "1          green\n",
       "2    i like pink\n",
       "3           blue\n",
       "dtype: object"
      ]
     },
     "execution_count": 4,
     "metadata": {},
     "output_type": "execute_result"
    }
   ],
   "source": [
    "#2 lower()\n",
    "s = pd.Series(['WHITE', 'green', 'I likE PinK', 'BLue'])\n",
    "s.str.lower()\n",
    "# бүх утгыг жижиг үсгээр илэрхийлж байна"
   ]
  },
  {
   "cell_type": "code",
   "execution_count": 5,
   "id": "72f0b3b5",
   "metadata": {},
   "outputs": [
    {
     "data": {
      "text/plain": [
       "0      dg\n",
       "1     cXt\n",
       "2    bYrd\n",
       "dtype: object"
      ]
     },
     "execution_count": 5,
     "metadata": {},
     "output_type": "execute_result"
    }
   ],
   "source": [
    "#3 translate()\n",
    "s = pd.Series([\"dog\", \"cat\", \"bird\"])\n",
    "m = str.maketrans({'a': 'X', 'i': 'Y', 'o': None})\n",
    "s.str.translate(m)\n",
    "# maketrans-ийн тусламжтай утга бүрд өөрчлөлт оруулах"
   ]
  },
  {
   "cell_type": "code",
   "execution_count": 6,
   "id": "d95bccb9",
   "metadata": {},
   "outputs": [
    {
     "data": {
      "text/plain": [
       "0     True\n",
       "1    False\n",
       "2    False\n",
       "3    False\n",
       "dtype: bool"
      ]
     },
     "execution_count": 6,
     "metadata": {},
     "output_type": "execute_result"
    }
   ],
   "source": [
    "#4 islower()\n",
    "s = pd.Series(['pink', 'GREen', 'bLUE', ''])\n",
    "s.str.islower()\n",
    "# бүх үсэг нь жижиг байх утганд True, эсрэг бол False утга өгөх"
   ]
  },
  {
   "cell_type": "code",
   "execution_count": 12,
   "id": "953c9ac6",
   "metadata": {},
   "outputs": [
    {
     "name": "stdout",
     "output_type": "stream",
     "text": [
      "banana               is my favorite fruit.\n"
     ]
    }
   ],
   "source": [
    "#5 ljust()\n",
    "txt = \"banana\"\n",
    "x = txt.ljust(20)\n",
    "print(x, \"is my favorite fruit.\")\n",
    "# Дараах функцийн утгын араас зай авахад ашиглах"
   ]
  },
  {
   "cell_type": "code",
   "execution_count": 9,
   "id": "42040a44",
   "metadata": {},
   "outputs": [
    {
     "data": {
      "text/plain": [
       "0                 LOWER\n",
       "1              CAPITALS\n",
       "2    THIS IS A SENTENCE\n",
       "3              SWAPCASE\n",
       "dtype: object"
      ]
     },
     "execution_count": 9,
     "metadata": {},
     "output_type": "execute_result"
    }
   ],
   "source": [
    "#6 upper()\n",
    "s = pd.Series(['lower', 'CAPITALS', 'this is a sentence', 'SwApCaSe'])\n",
    "s.str.upper()\n",
    "# бүх утгын үсгийг том болгох"
   ]
  },
  {
   "cell_type": "code",
   "execution_count": 11,
   "id": "49dbf3e5",
   "metadata": {},
   "outputs": [
    {
     "data": {
      "text/plain": [
       "0     True\n",
       "1    False\n",
       "2    False\n",
       "3      NaN\n",
       "dtype: object"
      ]
     },
     "execution_count": 11,
     "metadata": {},
     "output_type": "execute_result"
    }
   ],
   "source": [
    "import numpy as np\n",
    "#7 startswith()\n",
    "s = pd.Series(['bat', 'Bear', 'cat', np.nan])\n",
    "s.str.startswith('b')\n",
    "# Тодорхой үсгээр эхэлсэн эсэхийг шалгах"
   ]
  },
  {
   "cell_type": "code",
   "execution_count": 13,
   "id": "8360dc3f",
   "metadata": {},
   "outputs": [
    {
     "data": {
      "text/plain": [
       "0    False\n",
       "1    False\n",
       "2     True\n",
       "3    False\n",
       "dtype: bool"
      ]
     },
     "execution_count": 13,
     "metadata": {},
     "output_type": "execute_result"
    }
   ],
   "source": [
    "#8 isupper()\n",
    "a = pd.Series(['leopard', 'Golden Eagle', 'SNAKE', ''])\n",
    "a.str.isupper()\n",
    "# Бүх үсэг нь том байвал True, үгүй бол False"
   ]
  },
  {
   "cell_type": "code",
   "execution_count": 14,
   "id": "ed743dbd",
   "metadata": {},
   "outputs": [
    {
     "name": "stdout",
     "output_type": "stream",
     "text": [
      "              banana is my favorite fruit.\n"
     ]
    }
   ],
   "source": [
    "#9 rjust()\n",
    "txt = \"banana\"\n",
    "x = txt.rjust(20)\n",
    "print(x, \"is my favorite fruit.\")\n",
    "# утга хэвлэгдэхээс өмнө зай авахад ашиглах"
   ]
  },
  {
   "cell_type": "code",
   "execution_count": 16,
   "id": "2c1fc4de",
   "metadata": {},
   "outputs": [
    {
     "data": {
      "text/plain": [
       "0   -1\n",
       "1    3\n",
       "2   -1\n",
       "3   -1\n",
       "4   -1\n",
       "Name: string_series, dtype: int64"
      ]
     },
     "execution_count": 16,
     "metadata": {},
     "output_type": "execute_result"
    }
   ],
   "source": [
    "#10 find()\n",
    "my_string_series = pd.Series(['San Francisco',\n",
    "                              'Chicago',\n",
    "                              'Traveling',\n",
    "                              'Pandas',\n",
    "                              'Remote Worker'], name=\"string_series\")\n",
    "my_string_series.str.find(\"cago\")\n",
    "# Тодорхой хайлтыг мөр бүрийн хамгийн өндөо индексээр илэрхийлэх"
   ]
  },
  {
   "cell_type": "code",
   "execution_count": 18,
   "id": "ef3f835b",
   "metadata": {},
   "outputs": [
    {
     "data": {
      "text/plain": [
       "0     True\n",
       "1    False\n",
       "2    False\n",
       "3      NaN\n",
       "dtype: object"
      ]
     },
     "execution_count": 18,
     "metadata": {},
     "output_type": "execute_result"
    }
   ],
   "source": [
    "#11 endswith()\n",
    "s = pd.Series(['bag', 'mouse', 'biG', np.nan])\n",
    "s.str.endswith('g')\n",
    "# Тодорхой үсгээр төгссөн эсэхийг шалгах"
   ]
  },
  {
   "cell_type": "code",
   "execution_count": 19,
   "id": "e2f26252",
   "metadata": {},
   "outputs": [
    {
     "data": {
      "text/plain": [
       "0    False\n",
       "1    False\n",
       "2     True\n",
       "3    False\n",
       "dtype: bool"
      ]
     },
     "execution_count": 19,
     "metadata": {},
     "output_type": "execute_result"
    }
   ],
   "source": [
    "#12 isnumeric()\n",
    "s1 = pd.Series(['one', 'two2', '3', ''])\n",
    "s1.str.isnumeric()\n",
    "#Тоон утга эсэхийг шалгах"
   ]
  },
  {
   "cell_type": "code",
   "execution_count": 20,
   "id": "11716fd9",
   "metadata": {},
   "outputs": [
    {
     "name": "stdout",
     "output_type": "stream",
     "text": [
      "       banana       \n"
     ]
    }
   ],
   "source": [
    "#13 center()\n",
    "txt = \"banana\"\n",
    "x = txt.center(20)\n",
    "print(x)\n",
    "#Өгөгдсөн индексийн голд утгыг өгөх"
   ]
  },
  {
   "cell_type": "code",
   "execution_count": 22,
   "id": "cae806da",
   "metadata": {},
   "outputs": [
    {
     "name": "stdout",
     "output_type": "stream",
     "text": [
      "0\n"
     ]
    }
   ],
   "source": [
    "#14 rfind()\n",
    "greet='Hello World'\n",
    "print(greet.rfind('H')) \n",
    "#Тодорхой утгын индексийг заах"
   ]
  },
  {
   "cell_type": "code",
   "execution_count": 24,
   "id": "8a0e9426",
   "metadata": {},
   "outputs": [
    {
     "data": {
      "text/plain": [
       "0       t\n",
       "1       3\n",
       "2       q\n",
       "3     NaN\n",
       "4     NaN\n",
       "5    Hiii\n",
       "dtype: object"
      ]
     },
     "execution_count": 24,
     "metadata": {},
     "output_type": "execute_result"
    }
   ],
   "source": [
    "#15 get()\n",
    "s = pd.Series([\"String\",\n",
    "              (2, 3, 4),\n",
    "              [\"p\", \"q\", \"r\"],\n",
    "              234,\n",
    "              -567,\n",
    "              {1: \"Hiii\", \"2\": \"friends\"}])\n",
    "s.str.get(1)\n",
    "#Тодорхой заасан индекс дээрх утгыг заах"
   ]
  },
  {
   "cell_type": "code",
   "execution_count": 25,
   "id": "751376e7",
   "metadata": {},
   "outputs": [
    {
     "data": {
      "text/plain": [
       "0     True\n",
       "1     True\n",
       "2     True\n",
       "3    False\n",
       "dtype: bool"
      ]
     },
     "execution_count": 25,
     "metadata": {},
     "output_type": "execute_result"
    }
   ],
   "source": [
    "#16 isalnum()\n",
    "s1 = pd.Series(['two', 'two2', '2', ''])\n",
    "s1.str.isalnum()\n",
    "# Мөр дэх бүх тэмдэгтүүд үсэг байвал True, нэг нь биш бол False."
   ]
  },
  {
   "cell_type": "code",
   "execution_count": 26,
   "id": "4a9d0535",
   "metadata": {},
   "outputs": [
    {
     "data": {
      "text/plain": [
       "0     True\n",
       "1    False\n",
       "2    False\n",
       "3    False\n",
       "dtype: bool"
      ]
     },
     "execution_count": 26,
     "metadata": {},
     "output_type": "execute_result"
    }
   ],
   "source": [
    "#17 isdecimal()\n",
    "s1 = pd.Series(['22', '³', '⅕', ''])\n",
    "s1.str.isdecimal()\n",
    "#Дан бүхэл тоо эсэхийг шалгах"
   ]
  },
  {
   "cell_type": "code",
   "execution_count": 28,
   "id": "fd9609bf",
   "metadata": {},
   "outputs": [
    {
     "data": {
      "text/plain": [
       "0     0-2\n",
       "1     002\n",
       "2    2000\n",
       "3     NaN\n",
       "4     NaN\n",
       "dtype: object"
      ]
     },
     "execution_count": 28,
     "metadata": {},
     "output_type": "execute_result"
    }
   ],
   "source": [
    "#18 zfill()\n",
    "s = pd.Series(['-2', '2', '2000', 20, np.nan])\n",
    "s.str.zfill(3)\n",
    "# Заасан индэксийн тоогоор тэг нэмэгэдэх"
   ]
  },
  {
   "cell_type": "code",
   "execution_count": 29,
   "id": "b8be4ebf",
   "metadata": {},
   "outputs": [
    {
     "name": "stdout",
     "output_type": "stream",
     "text": [
      "Index of H:  0\n"
     ]
    }
   ],
   "source": [
    "#19 index()\n",
    "greet='Hello World!'\n",
    "print('Index of H: ', greet.index('H'))\n",
    "# Заасан үсгийн индексийн байрлал заах."
   ]
  },
  {
   "cell_type": "code",
   "execution_count": 30,
   "id": "074d00c3",
   "metadata": {},
   "outputs": [
    {
     "data": {
      "text/plain": [
       "0     True\n",
       "1    False\n",
       "2    False\n",
       "3    False\n",
       "dtype: bool"
      ]
     },
     "execution_count": 30,
     "metadata": {},
     "output_type": "execute_result"
    }
   ],
   "source": [
    "#20 isalpha()\n",
    "s1 = pd.Series(['two', 'two2', '2', ''])\n",
    "s1.str.isalpha()\n",
    "# мөр бүрийн бүх тэмдэгтүүд цагаан толгойн үсгийн дарааллаар байгаа эсэхийг шалгах"
   ]
  },
  {
   "cell_type": "code",
   "execution_count": 33,
   "id": "c39b96dd",
   "metadata": {},
   "outputs": [
    {
     "name": "stdout",
     "output_type": "stream",
     "text": [
      "['C', 'Python', 'R', 'Java', 'SQL', 'Hadoop']\n"
     ]
    }
   ],
   "source": [
    "#21 split()\n",
    "langs = 'C,Python,R,Java,SQL,Hadoop'\n",
    "print(langs.split(','))\n",
    "# өгөгдсөн тусгаарлагч/хязгаарлагчийн эргэн тойронд мөрүүдийг хуваахад ашиглагддаг."
   ]
  },
  {
   "cell_type": "code",
   "execution_count": 34,
   "id": "1c35db70",
   "metadata": {},
   "outputs": [
    {
     "data": {
      "text/plain": [
       "'Hello World'"
      ]
     },
     "execution_count": 34,
     "metadata": {},
     "output_type": "execute_result"
    }
   ],
   "source": [
    "#22 strip()\n",
    "mystr = '     Hello World     '\n",
    "mystr.strip() \n",
    "# хоосон зайг арилгах"
   ]
  },
  {
   "cell_type": "code",
   "execution_count": 35,
   "id": "8fc70532",
   "metadata": {},
   "outputs": [
    {
     "name": "stdout",
     "output_type": "stream",
     "text": [
      "Index of H:  0\n",
      "Index of o:  7\n",
      "Index of l:  9\n",
      "Index of World:  6\n"
     ]
    }
   ],
   "source": [
    "#23 rindex()\n",
    "greet = 'Hello World!'\n",
    "print('Index of H: ', greet.rfind('H'))\n",
    "print('Index of o: ', greet.rindex('o'))\n",
    "print('Index of l: ', greet.rindex('l'))\n",
    "print('Index of World: ', greet.rindex('World'))\n",
    "# өгөгдсөн мөрөнд хамгийн сүүлийн индексийг буцаадаг"
   ]
  },
  {
   "cell_type": "code",
   "execution_count": 36,
   "id": "8d3327d2",
   "metadata": {},
   "outputs": [
    {
     "name": "stdout",
     "output_type": "stream",
     "text": [
      "True\n"
     ]
    }
   ],
   "source": [
    "#24 isdigit()\n",
    "mystr = '12345'\n",
    "print(mystr.isdigit())\n",
    "#тоон үтга эсэхийг шалгах"
   ]
  },
  {
   "cell_type": "code",
   "execution_count": 38,
   "id": "be9f5a08",
   "metadata": {},
   "outputs": [
    {
     "name": "stdout",
     "output_type": "stream",
     "text": [
      "['Hello', 'World']\n"
     ]
    }
   ],
   "source": [
    "#25 rsplit()\n",
    "mystr = 'Hello World'\n",
    "print('Hello     World'.rsplit())\n",
    "# утга бүрийг салгах"
   ]
  },
  {
   "cell_type": "code",
   "execution_count": 39,
   "id": "c3929239",
   "metadata": {},
   "outputs": [
    {
     "data": {
      "text/plain": [
       "'     Hello World'"
      ]
     },
     "execution_count": 39,
     "metadata": {},
     "output_type": "execute_result"
    }
   ],
   "source": [
    "#26 rstrip()\n",
    "mystr = '     Hello World     '\n",
    "mystr.rstrip()\n",
    "# утгын арын зайг устгах"
   ]
  },
  {
   "cell_type": "code",
   "execution_count": 40,
   "id": "ea738d6a",
   "metadata": {},
   "outputs": [
    {
     "data": {
      "text/plain": [
       "'Hello world!'"
      ]
     },
     "execution_count": 40,
     "metadata": {},
     "output_type": "execute_result"
    }
   ],
   "source": [
    "#27 capitalize()\n",
    "a = 'hello world!' \n",
    "a.capitalize() \n",
    "# томоор эхлүүлэх"
   ]
  },
  {
   "cell_type": "code",
   "execution_count": 44,
   "id": "e75fb8f2",
   "metadata": {},
   "outputs": [
    {
     "ename": "TypeError",
     "evalue": "unbound method str.isspace() needs an argument",
     "output_type": "error",
     "traceback": [
      "\u001b[1;31m---------------------------------------------------------------------------\u001b[0m",
      "\u001b[1;31mTypeError\u001b[0m                                 Traceback (most recent call last)",
      "\u001b[1;32m~\\AppData\\Local\\Temp/ipykernel_11820/1082220611.py\u001b[0m in \u001b[0;36m<module>\u001b[1;34m\u001b[0m\n\u001b[0;32m      1\u001b[0m \u001b[1;31m#28 isspace()\u001b[0m\u001b[1;33m\u001b[0m\u001b[1;33m\u001b[0m\u001b[0m\n\u001b[0;32m      2\u001b[0m \u001b[0mmystr\u001b[0m \u001b[1;33m=\u001b[0m \u001b[1;34m'HelloWorld'\u001b[0m\u001b[1;33m\u001b[0m\u001b[1;33m\u001b[0m\u001b[0m\n\u001b[1;32m----> 3\u001b[1;33m \u001b[0mstr\u001b[0m\u001b[1;33m.\u001b[0m\u001b[0misspace\u001b[0m\u001b[1;33m(\u001b[0m\u001b[1;33m)\u001b[0m\u001b[1;33m\u001b[0m\u001b[1;33m\u001b[0m\u001b[0m\n\u001b[0m\u001b[0;32m      4\u001b[0m \u001b[1;31m# Өгөгдсөн мөрийн бүх тэмдэгтүүд хоосон байвал True, үгүй бол False\u001b[0m\u001b[1;33m\u001b[0m\u001b[1;33m\u001b[0m\u001b[0m\n",
      "\u001b[1;31mTypeError\u001b[0m: unbound method str.isspace() needs an argument"
     ]
    }
   ],
   "source": [
    "#28 isspace()\n",
    "mystr = 'HelloWorld'\n",
    "str.isspace()\n",
    "# Өгөгдсөн мөрийн бүх тэмдэгтүүд хоосон байвал True, үгүй бол False"
   ]
  },
  {
   "cell_type": "code",
   "execution_count": 45,
   "id": "ddc9013f",
   "metadata": {},
   "outputs": [
    {
     "data": {
      "text/html": [
       "<div>\n",
       "<style scoped>\n",
       "    .dataframe tbody tr th:only-of-type {\n",
       "        vertical-align: middle;\n",
       "    }\n",
       "\n",
       "    .dataframe tbody tr th {\n",
       "        vertical-align: top;\n",
       "    }\n",
       "\n",
       "    .dataframe thead th {\n",
       "        text-align: right;\n",
       "    }\n",
       "</style>\n",
       "<table border=\"1\" class=\"dataframe\">\n",
       "  <thead>\n",
       "    <tr style=\"text-align: right;\">\n",
       "      <th></th>\n",
       "      <th>0</th>\n",
       "      <th>1</th>\n",
       "      <th>2</th>\n",
       "    </tr>\n",
       "  </thead>\n",
       "  <tbody>\n",
       "    <tr>\n",
       "      <th>0</th>\n",
       "      <td>Albert</td>\n",
       "      <td></td>\n",
       "      <td>Junior Labuschagne</td>\n",
       "    </tr>\n",
       "    <tr>\n",
       "      <th>1</th>\n",
       "      <td>Jason</td>\n",
       "      <td></td>\n",
       "      <td>Pitt-Rivers</td>\n",
       "    </tr>\n",
       "  </tbody>\n",
       "</table>\n",
       "</div>"
      ],
      "text/plain": [
       "        0  1                   2\n",
       "0  Albert     Junior Labuschagne\n",
       "1   Jason            Pitt-Rivers"
      ]
     },
     "execution_count": 45,
     "metadata": {},
     "output_type": "execute_result"
    }
   ],
   "source": [
    "#29 partition()\n",
    "s = pd.Series(['Albert Junior Labuschagne', 'Jason Pitt-Rivers'])\n",
    "s.str.partition()\n",
    "# мөрийг хуваах"
   ]
  },
  {
   "cell_type": "code",
   "execution_count": 46,
   "id": "8f06e23a",
   "metadata": {},
   "outputs": [
    {
     "data": {
      "text/plain": [
       "'Hello World     '"
      ]
     },
     "execution_count": 46,
     "metadata": {},
     "output_type": "execute_result"
    }
   ],
   "source": [
    "#30 lstrip()\n",
    "mystr = '     Hello World     '\n",
    "mystr.lstrip()\n",
    "# утгын урд зайг устгах"
   ]
  },
  {
   "cell_type": "code",
   "execution_count": 47,
   "id": "de6dbe4c",
   "metadata": {},
   "outputs": [
    {
     "data": {
      "text/plain": [
       "'HELLO WORLD'"
      ]
     },
     "execution_count": 47,
     "metadata": {},
     "output_type": "execute_result"
    }
   ],
   "source": [
    "#31 swapcase()\n",
    "'hello world'.swapcase()\n",
    "# жижиг үсэг рүү хөрвүүлсэн том үсэг бүхий мөрийн хуулбар"
   ]
  },
  {
   "cell_type": "code",
   "execution_count": 48,
   "id": "b52f1e51",
   "metadata": {},
   "outputs": [
    {
     "data": {
      "text/plain": [
       "True"
      ]
     },
     "execution_count": 48,
     "metadata": {},
     "output_type": "execute_result"
    }
   ],
   "source": [
    "#32 istitle()\n",
    "greet='Hello World'\n",
    "greet.istitle()\n",
    "# эхний тэмдэгтийг том үсгээр, бусад нь жижиг үсгээр бичсэн эсэхийг шалгах"
   ]
  },
  {
   "cell_type": "code",
   "execution_count": 49,
   "id": "5847849d",
   "metadata": {},
   "outputs": [
    {
     "name": "stdout",
     "output_type": "stream",
     "text": [
      "('Hello W', 'o', 'rld')\n",
      "('Hello Wor', 'l', 'd')\n",
      "('Hello ', 'W', 'orld')\n"
     ]
    }
   ],
   "source": [
    "#33 rpartition()\n",
    "mystr = 'Hello World'\n",
    "print(mystr.rpartition('o'))\n",
    "print(mystr.rpartition('l'))\n",
    "print(mystr.rpartition('W'))\n",
    "# тодорхой тусгаарлагчийн өмнөх хэсэг, тусгаарлагч өөрөө болон тусгаарлагчийн дараах хэсэг гэсэн гурван хэсэгт хуваах"
   ]
  },
  {
   "cell_type": "code",
   "execution_count": null,
   "id": "6fd74e54",
   "metadata": {},
   "outputs": [],
   "source": []
  }
 ],
 "metadata": {
  "kernelspec": {
   "display_name": "Python 3 (ipykernel)",
   "language": "python",
   "name": "python3"
  },
  "language_info": {
   "codemirror_mode": {
    "name": "ipython",
    "version": 3
   },
   "file_extension": ".py",
   "mimetype": "text/x-python",
   "name": "python",
   "nbconvert_exporter": "python",
   "pygments_lexer": "ipython3",
   "version": "3.9.7"
  }
 },
 "nbformat": 4,
 "nbformat_minor": 5
}
